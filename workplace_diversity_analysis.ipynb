{
 "cells": [
  {
   "cell_type": "code",
   "execution_count": 2,
   "metadata": {},
   "outputs": [],
   "source": [
    "import pandas\n",
    "import numpy as np\n",
    "import matplotlib.pyplot as plt\n",
    "import seaborn as sns\n",
    "from matplotlib import rcParams\n",
    "rcParams.update({'figure.autolayout': True})\n",
    "pandas.set_option('display.max_columns', 10)\n",
    "pandas.set_option('display.width', 350)"
   ]
  },
  {
   "cell_type": "code",
   "execution_count": 3,
   "metadata": {},
   "outputs": [],
   "source": [
    "company=pandas.read_csv(\"./dataset/diversity/company_hierarchy.csv\")"
   ]
  },
  {
   "cell_type": "code",
   "execution_count": 4,
   "metadata": {},
   "outputs": [
    {
     "data": {
      "text/html": [
       "<div>\n",
       "<style scoped>\n",
       "    .dataframe tbody tr th:only-of-type {\n",
       "        vertical-align: middle;\n",
       "    }\n",
       "\n",
       "    .dataframe tbody tr th {\n",
       "        vertical-align: top;\n",
       "    }\n",
       "\n",
       "    .dataframe thead th {\n",
       "        text-align: right;\n",
       "    }\n",
       "</style>\n",
       "<table border=\"1\" class=\"dataframe\">\n",
       "  <thead>\n",
       "    <tr style=\"text-align: right;\">\n",
       "      <th></th>\n",
       "      <th>employee_id</th>\n",
       "      <th>boss_id</th>\n",
       "      <th>dept</th>\n",
       "    </tr>\n",
       "  </thead>\n",
       "  <tbody>\n",
       "    <tr>\n",
       "      <th>0</th>\n",
       "      <td>46456</td>\n",
       "      <td>175361.0</td>\n",
       "      <td>sales</td>\n",
       "    </tr>\n",
       "    <tr>\n",
       "      <th>1</th>\n",
       "      <td>104708</td>\n",
       "      <td>29733.0</td>\n",
       "      <td>HR</td>\n",
       "    </tr>\n",
       "    <tr>\n",
       "      <th>2</th>\n",
       "      <td>120853</td>\n",
       "      <td>41991.0</td>\n",
       "      <td>sales</td>\n",
       "    </tr>\n",
       "    <tr>\n",
       "      <th>3</th>\n",
       "      <td>142630</td>\n",
       "      <td>171266.0</td>\n",
       "      <td>HR</td>\n",
       "    </tr>\n",
       "    <tr>\n",
       "      <th>4</th>\n",
       "      <td>72711</td>\n",
       "      <td>198240.0</td>\n",
       "      <td>sales</td>\n",
       "    </tr>\n",
       "  </tbody>\n",
       "</table>\n",
       "</div>"
      ],
      "text/plain": [
       "   employee_id   boss_id   dept\n",
       "0        46456  175361.0  sales\n",
       "1       104708   29733.0     HR\n",
       "2       120853   41991.0  sales\n",
       "3       142630  171266.0     HR\n",
       "4        72711  198240.0  sales"
      ]
     },
     "execution_count": 4,
     "metadata": {},
     "output_type": "execute_result"
    }
   ],
   "source": [
    "company.head()"
   ]
  },
  {
   "cell_type": "code",
   "execution_count": 5,
   "metadata": {},
   "outputs": [
    {
     "data": {
      "text/html": [
       "<div>\n",
       "<style scoped>\n",
       "    .dataframe tbody tr th:only-of-type {\n",
       "        vertical-align: middle;\n",
       "    }\n",
       "\n",
       "    .dataframe tbody tr th {\n",
       "        vertical-align: top;\n",
       "    }\n",
       "\n",
       "    .dataframe thead th {\n",
       "        text-align: right;\n",
       "    }\n",
       "</style>\n",
       "<table border=\"1\" class=\"dataframe\">\n",
       "  <thead>\n",
       "    <tr style=\"text-align: right;\">\n",
       "      <th></th>\n",
       "      <th>employee_id</th>\n",
       "      <th>boss_id</th>\n",
       "      <th>dept</th>\n",
       "    </tr>\n",
       "  </thead>\n",
       "  <tbody>\n",
       "    <tr>\n",
       "      <th>count</th>\n",
       "      <td>10000.000000</td>\n",
       "      <td>9999.000000</td>\n",
       "      <td>10000</td>\n",
       "    </tr>\n",
       "    <tr>\n",
       "      <th>unique</th>\n",
       "      <td>NaN</td>\n",
       "      <td>NaN</td>\n",
       "      <td>5</td>\n",
       "    </tr>\n",
       "    <tr>\n",
       "      <th>top</th>\n",
       "      <td>NaN</td>\n",
       "      <td>NaN</td>\n",
       "      <td>sales</td>\n",
       "    </tr>\n",
       "    <tr>\n",
       "      <th>freq</th>\n",
       "      <td>NaN</td>\n",
       "      <td>NaN</td>\n",
       "      <td>3599</td>\n",
       "    </tr>\n",
       "    <tr>\n",
       "      <th>mean</th>\n",
       "      <td>100001.855800</td>\n",
       "      <td>103299.980498</td>\n",
       "      <td>NaN</td>\n",
       "    </tr>\n",
       "    <tr>\n",
       "      <th>std</th>\n",
       "      <td>57500.488641</td>\n",
       "      <td>57508.798817</td>\n",
       "      <td>NaN</td>\n",
       "    </tr>\n",
       "    <tr>\n",
       "      <th>min</th>\n",
       "      <td>40.000000</td>\n",
       "      <td>79.000000</td>\n",
       "      <td>NaN</td>\n",
       "    </tr>\n",
       "    <tr>\n",
       "      <th>25%</th>\n",
       "      <td>50574.500000</td>\n",
       "      <td>55883.000000</td>\n",
       "      <td>NaN</td>\n",
       "    </tr>\n",
       "    <tr>\n",
       "      <th>50%</th>\n",
       "      <td>99244.500000</td>\n",
       "      <td>102712.000000</td>\n",
       "      <td>NaN</td>\n",
       "    </tr>\n",
       "    <tr>\n",
       "      <th>75%</th>\n",
       "      <td>149748.500000</td>\n",
       "      <td>152288.000000</td>\n",
       "      <td>NaN</td>\n",
       "    </tr>\n",
       "    <tr>\n",
       "      <th>max</th>\n",
       "      <td>199956.000000</td>\n",
       "      <td>199950.000000</td>\n",
       "      <td>NaN</td>\n",
       "    </tr>\n",
       "  </tbody>\n",
       "</table>\n",
       "</div>"
      ],
      "text/plain": [
       "          employee_id        boss_id   dept\n",
       "count    10000.000000    9999.000000  10000\n",
       "unique            NaN            NaN      5\n",
       "top               NaN            NaN  sales\n",
       "freq              NaN            NaN   3599\n",
       "mean    100001.855800  103299.980498    NaN\n",
       "std      57500.488641   57508.798817    NaN\n",
       "min         40.000000      79.000000    NaN\n",
       "25%      50574.500000   55883.000000    NaN\n",
       "50%      99244.500000  102712.000000    NaN\n",
       "75%     149748.500000  152288.000000    NaN\n",
       "max     199956.000000  199950.000000    NaN"
      ]
     },
     "execution_count": 5,
     "metadata": {},
     "output_type": "execute_result"
    }
   ],
   "source": [
    "company.describe(include='all')"
   ]
  },
  {
   "cell_type": "code",
   "execution_count": 6,
   "metadata": {},
   "outputs": [],
   "source": [
    "employee=pandas.read_csv(\"./dataset/diversity/employee.csv\")"
   ]
  },
  {
   "cell_type": "code",
   "execution_count": 7,
   "metadata": {},
   "outputs": [
    {
     "data": {
      "text/html": [
       "<div>\n",
       "<style scoped>\n",
       "    .dataframe tbody tr th:only-of-type {\n",
       "        vertical-align: middle;\n",
       "    }\n",
       "\n",
       "    .dataframe tbody tr th {\n",
       "        vertical-align: top;\n",
       "    }\n",
       "\n",
       "    .dataframe thead th {\n",
       "        text-align: right;\n",
       "    }\n",
       "</style>\n",
       "<table border=\"1\" class=\"dataframe\">\n",
       "  <thead>\n",
       "    <tr style=\"text-align: right;\">\n",
       "      <th></th>\n",
       "      <th>employee_id</th>\n",
       "      <th>signing_bonus</th>\n",
       "      <th>salary</th>\n",
       "      <th>degree_level</th>\n",
       "      <th>sex</th>\n",
       "      <th>yrs_experience</th>\n",
       "    </tr>\n",
       "  </thead>\n",
       "  <tbody>\n",
       "    <tr>\n",
       "      <th>0</th>\n",
       "      <td>138719</td>\n",
       "      <td>0</td>\n",
       "      <td>273000.0</td>\n",
       "      <td>Master</td>\n",
       "      <td>M</td>\n",
       "      <td>2</td>\n",
       "    </tr>\n",
       "    <tr>\n",
       "      <th>1</th>\n",
       "      <td>3192</td>\n",
       "      <td>0</td>\n",
       "      <td>301000.0</td>\n",
       "      <td>Bachelor</td>\n",
       "      <td>F</td>\n",
       "      <td>1</td>\n",
       "    </tr>\n",
       "    <tr>\n",
       "      <th>2</th>\n",
       "      <td>114657</td>\n",
       "      <td>0</td>\n",
       "      <td>261000.0</td>\n",
       "      <td>Master</td>\n",
       "      <td>F</td>\n",
       "      <td>2</td>\n",
       "    </tr>\n",
       "    <tr>\n",
       "      <th>3</th>\n",
       "      <td>29039</td>\n",
       "      <td>0</td>\n",
       "      <td>86000.0</td>\n",
       "      <td>High_School</td>\n",
       "      <td>F</td>\n",
       "      <td>4</td>\n",
       "    </tr>\n",
       "    <tr>\n",
       "      <th>4</th>\n",
       "      <td>118607</td>\n",
       "      <td>0</td>\n",
       "      <td>126000.0</td>\n",
       "      <td>Bachelor</td>\n",
       "      <td>F</td>\n",
       "      <td>3</td>\n",
       "    </tr>\n",
       "  </tbody>\n",
       "</table>\n",
       "</div>"
      ],
      "text/plain": [
       "   employee_id  signing_bonus    salary degree_level sex  yrs_experience\n",
       "0       138719              0  273000.0       Master   M               2\n",
       "1         3192              0  301000.0     Bachelor   F               1\n",
       "2       114657              0  261000.0       Master   F               2\n",
       "3        29039              0   86000.0  High_School   F               4\n",
       "4       118607              0  126000.0     Bachelor   F               3"
      ]
     },
     "execution_count": 7,
     "metadata": {},
     "output_type": "execute_result"
    }
   ],
   "source": [
    "employee.head()"
   ]
  },
  {
   "cell_type": "code",
   "execution_count": 8,
   "metadata": {},
   "outputs": [
    {
     "data": {
      "text/html": [
       "<div>\n",
       "<style scoped>\n",
       "    .dataframe tbody tr th:only-of-type {\n",
       "        vertical-align: middle;\n",
       "    }\n",
       "\n",
       "    .dataframe tbody tr th {\n",
       "        vertical-align: top;\n",
       "    }\n",
       "\n",
       "    .dataframe thead th {\n",
       "        text-align: right;\n",
       "    }\n",
       "</style>\n",
       "<table border=\"1\" class=\"dataframe\">\n",
       "  <thead>\n",
       "    <tr style=\"text-align: right;\">\n",
       "      <th></th>\n",
       "      <th>employee_id</th>\n",
       "      <th>signing_bonus</th>\n",
       "      <th>salary</th>\n",
       "      <th>degree_level</th>\n",
       "      <th>sex</th>\n",
       "      <th>yrs_experience</th>\n",
       "    </tr>\n",
       "  </thead>\n",
       "  <tbody>\n",
       "    <tr>\n",
       "      <th>count</th>\n",
       "      <td>10000.000000</td>\n",
       "      <td>10000.000000</td>\n",
       "      <td>10000.000000</td>\n",
       "      <td>10000</td>\n",
       "      <td>10000</td>\n",
       "      <td>10000.000000</td>\n",
       "    </tr>\n",
       "    <tr>\n",
       "      <th>unique</th>\n",
       "      <td>NaN</td>\n",
       "      <td>NaN</td>\n",
       "      <td>NaN</td>\n",
       "      <td>4</td>\n",
       "      <td>2</td>\n",
       "      <td>NaN</td>\n",
       "    </tr>\n",
       "    <tr>\n",
       "      <th>top</th>\n",
       "      <td>NaN</td>\n",
       "      <td>NaN</td>\n",
       "      <td>NaN</td>\n",
       "      <td>PhD</td>\n",
       "      <td>M</td>\n",
       "      <td>NaN</td>\n",
       "    </tr>\n",
       "    <tr>\n",
       "      <th>freq</th>\n",
       "      <td>NaN</td>\n",
       "      <td>NaN</td>\n",
       "      <td>NaN</td>\n",
       "      <td>2822</td>\n",
       "      <td>6439</td>\n",
       "      <td>NaN</td>\n",
       "    </tr>\n",
       "    <tr>\n",
       "      <th>mean</th>\n",
       "      <td>100001.855800</td>\n",
       "      <td>0.301400</td>\n",
       "      <td>189111.800000</td>\n",
       "      <td>NaN</td>\n",
       "      <td>NaN</td>\n",
       "      <td>3.875200</td>\n",
       "    </tr>\n",
       "    <tr>\n",
       "      <th>std</th>\n",
       "      <td>57500.488641</td>\n",
       "      <td>0.458889</td>\n",
       "      <td>88973.796898</td>\n",
       "      <td>NaN</td>\n",
       "      <td>NaN</td>\n",
       "      <td>3.107409</td>\n",
       "    </tr>\n",
       "    <tr>\n",
       "      <th>min</th>\n",
       "      <td>40.000000</td>\n",
       "      <td>0.000000</td>\n",
       "      <td>60000.000000</td>\n",
       "      <td>NaN</td>\n",
       "      <td>NaN</td>\n",
       "      <td>1.000000</td>\n",
       "    </tr>\n",
       "    <tr>\n",
       "      <th>25%</th>\n",
       "      <td>50574.500000</td>\n",
       "      <td>0.000000</td>\n",
       "      <td>110000.000000</td>\n",
       "      <td>NaN</td>\n",
       "      <td>NaN</td>\n",
       "      <td>2.000000</td>\n",
       "    </tr>\n",
       "    <tr>\n",
       "      <th>50%</th>\n",
       "      <td>99244.500000</td>\n",
       "      <td>0.000000</td>\n",
       "      <td>182000.000000</td>\n",
       "      <td>NaN</td>\n",
       "      <td>NaN</td>\n",
       "      <td>3.000000</td>\n",
       "    </tr>\n",
       "    <tr>\n",
       "      <th>75%</th>\n",
       "      <td>149748.500000</td>\n",
       "      <td>1.000000</td>\n",
       "      <td>255000.000000</td>\n",
       "      <td>NaN</td>\n",
       "      <td>NaN</td>\n",
       "      <td>5.000000</td>\n",
       "    </tr>\n",
       "    <tr>\n",
       "      <th>max</th>\n",
       "      <td>199956.000000</td>\n",
       "      <td>1.000000</td>\n",
       "      <td>700000.000000</td>\n",
       "      <td>NaN</td>\n",
       "      <td>NaN</td>\n",
       "      <td>34.000000</td>\n",
       "    </tr>\n",
       "  </tbody>\n",
       "</table>\n",
       "</div>"
      ],
      "text/plain": [
       "          employee_id  signing_bonus         salary degree_level    sex  yrs_experience\n",
       "count    10000.000000   10000.000000   10000.000000        10000  10000    10000.000000\n",
       "unique            NaN            NaN            NaN            4      2             NaN\n",
       "top               NaN            NaN            NaN          PhD      M             NaN\n",
       "freq              NaN            NaN            NaN         2822   6439             NaN\n",
       "mean    100001.855800       0.301400  189111.800000          NaN    NaN        3.875200\n",
       "std      57500.488641       0.458889   88973.796898          NaN    NaN        3.107409\n",
       "min         40.000000       0.000000   60000.000000          NaN    NaN        1.000000\n",
       "25%      50574.500000       0.000000  110000.000000          NaN    NaN        2.000000\n",
       "50%      99244.500000       0.000000  182000.000000          NaN    NaN        3.000000\n",
       "75%     149748.500000       1.000000  255000.000000          NaN    NaN        5.000000\n",
       "max     199956.000000       1.000000  700000.000000          NaN    NaN       34.000000"
      ]
     },
     "execution_count": 8,
     "metadata": {},
     "output_type": "execute_result"
    }
   ],
   "source": [
    "employee.describe(include='all')"
   ]
  },
  {
   "cell_type": "markdown",
   "metadata": {},
   "source": [
    "Q: In the company there are 6 levels :\n",
    "Individual Contributors(IC) - they don’t manage anyone\n",
    "Middle Managers(MM) - they are the direct bosses of IC\n",
    "Directors(D) - they are the direct bosses of MM\n",
    "VP - D direct bosses\n",
    "Executives (E) - VP direct bosses\n",
    "CEO - The direct boss of E.\n",
    "\n",
    "Identify, for each employee, her corresponding level.\n",
    "\n",
    "There is only one CEO in the company and that can be found right away because has no boss (or the dept is “CEO”) . Once the CEO has been identified, we can identify Executives (these are people reporting to the CEO) and so on all the way down to the ICs."
   ]
  },
  {
   "cell_type": "code",
   "execution_count": 9,
   "metadata": {},
   "outputs": [],
   "source": [
    "#At first, we set everyone as IC, then we keep updating this vector\n",
    "company['level'] = \"IC\"\n",
    "  \n",
    "#identify the CEO\n",
    "company.loc[company.dept == \"CEO\", \"level\"] = \"CEO\"\n",
    "  \n",
    "#assign everyone else based on their boss level\n",
    "company_levels = [\"CEO\", \"E\", \"VP\", \"D\", \"MM\"]\n"
   ]
  },
  {
   "cell_type": "code",
   "execution_count": 10,
   "metadata": {},
   "outputs": [],
   "source": [
    "for i in range(1,len(company_levels)):\n",
    "  #identify IDs of the boss. This is employee ID of the level above\n",
    "  boss_id = company.loc[company.level == company_levels[i-1], 'employee_id']\n",
    "  company.loc[company.boss_id.isin(boss_id), \"level\"] = company_levels[i]\n"
   ]
  },
  {
   "cell_type": "code",
   "execution_count": 11,
   "metadata": {},
   "outputs": [
    {
     "name": "stdout",
     "output_type": "stream",
     "text": [
      "IC     9000\n",
      "MM      800\n",
      "D       160\n",
      "VP       35\n",
      "E         4\n",
      "CEO       1\n",
      "Name: level, dtype: int64\n"
     ]
    }
   ],
   "source": [
    "#frequency\n",
    "print(company.level.value_counts())\n"
   ]
  },
  {
   "cell_type": "markdown",
   "metadata": {},
   "source": [
    "Q: How many people each employee manages? Consider that if John directly manages 2 people and these two people manage 5 people each, then we conclude that John manages 12 people.\n",
    "\n",
    "Here we will use the opposite approach: we start from the bottom (IC) and then count all the way up to the CEO.\n"
   ]
  },
  {
   "cell_type": "code",
   "execution_count": 12,
   "metadata": {},
   "outputs": [],
   "source": [
    "#At first, we set 0. This will be true for ICs, then we keep updating this vector for all others\n",
    "company['num_reports'] = 0\n",
    "  \n",
    "#same as before, but now we start from the bottom\n",
    "company_levels = [\"IC\", \"MM\", \"D\", \"VP\", \"E\"]\n",
    "  \n",
    "i=0\n",
    "while i<len(company_levels):\n",
    "  #this is the count of direct reports + the prior count so we take into account direct reports of direct reports, etc.\n",
    "  level_count=company.loc[company.level == company_levels[i]].groupby('boss_id')['num_reports'].agg(lambda x: x.count() + x.sum())\n",
    "                                         \n",
    "  #join to the main table to get the new report count for the bosses from the step above\n",
    "  company=pandas.merge(left=company, right=level_count, how='left', left_on=\"employee_id\", right_on=\"boss_id\", suffixes=('', '_updated'))\n",
    "  company['num_reports'] = company.num_reports_updated.combine_first(company.num_reports)\n",
    "  #we can delete this now that we have updated the count\n",
    "  del company['num_reports_updated']\n",
    "  i+=1\n"
   ]
  },
  {
   "cell_type": "code",
   "execution_count": 13,
   "metadata": {},
   "outputs": [
    {
     "data": {
      "text/html": [
       "<div>\n",
       "<style scoped>\n",
       "    .dataframe tbody tr th:only-of-type {\n",
       "        vertical-align: middle;\n",
       "    }\n",
       "\n",
       "    .dataframe tbody tr th {\n",
       "        vertical-align: top;\n",
       "    }\n",
       "\n",
       "    .dataframe thead th {\n",
       "        text-align: right;\n",
       "    }\n",
       "</style>\n",
       "<table border=\"1\" class=\"dataframe\">\n",
       "  <thead>\n",
       "    <tr style=\"text-align: right;\">\n",
       "      <th></th>\n",
       "      <th>employee_id</th>\n",
       "      <th>boss_id</th>\n",
       "      <th>dept</th>\n",
       "      <th>level</th>\n",
       "      <th>num_reports</th>\n",
       "    </tr>\n",
       "  </thead>\n",
       "  <tbody>\n",
       "    <tr>\n",
       "      <th>2427</th>\n",
       "      <td>61554</td>\n",
       "      <td>NaN</td>\n",
       "      <td>CEO</td>\n",
       "      <td>CEO</td>\n",
       "      <td>9999.0</td>\n",
       "    </tr>\n",
       "    <tr>\n",
       "      <th>1310</th>\n",
       "      <td>11277</td>\n",
       "      <td>61554.0</td>\n",
       "      <td>sales</td>\n",
       "      <td>E</td>\n",
       "      <td>3598.0</td>\n",
       "    </tr>\n",
       "    <tr>\n",
       "      <th>2778</th>\n",
       "      <td>51535</td>\n",
       "      <td>61554.0</td>\n",
       "      <td>engineering</td>\n",
       "      <td>E</td>\n",
       "      <td>2695.0</td>\n",
       "    </tr>\n",
       "    <tr>\n",
       "      <th>1009</th>\n",
       "      <td>110464</td>\n",
       "      <td>61554.0</td>\n",
       "      <td>marketing</td>\n",
       "      <td>E</td>\n",
       "      <td>2009.0</td>\n",
       "    </tr>\n",
       "    <tr>\n",
       "      <th>9640</th>\n",
       "      <td>93708</td>\n",
       "      <td>61554.0</td>\n",
       "      <td>HR</td>\n",
       "      <td>E</td>\n",
       "      <td>1693.0</td>\n",
       "    </tr>\n",
       "  </tbody>\n",
       "</table>\n",
       "</div>"
      ],
      "text/plain": [
       "      employee_id  boss_id         dept level  num_reports\n",
       "2427        61554      NaN          CEO   CEO       9999.0\n",
       "1310        11277  61554.0        sales     E       3598.0\n",
       "2778        51535  61554.0  engineering     E       2695.0\n",
       "1009       110464  61554.0    marketing     E       2009.0\n",
       "9640        93708  61554.0           HR     E       1693.0"
      ]
     },
     "execution_count": 13,
     "metadata": {},
     "output_type": "execute_result"
    }
   ],
   "source": [
    "company.sort_values(by=['num_reports'], ascending=False).head()"
   ]
  },
  {
   "cell_type": "markdown",
   "metadata": {},
   "source": [
    "Build a model to predict the salary of each employee"
   ]
  },
  {
   "cell_type": "code",
   "execution_count": 14,
   "metadata": {},
   "outputs": [
    {
     "data": {
      "text/html": [
       "<div>\n",
       "<style scoped>\n",
       "    .dataframe tbody tr th:only-of-type {\n",
       "        vertical-align: middle;\n",
       "    }\n",
       "\n",
       "    .dataframe tbody tr th {\n",
       "        vertical-align: top;\n",
       "    }\n",
       "\n",
       "    .dataframe thead th {\n",
       "        text-align: right;\n",
       "    }\n",
       "</style>\n",
       "<table border=\"1\" class=\"dataframe\">\n",
       "  <thead>\n",
       "    <tr style=\"text-align: right;\">\n",
       "      <th></th>\n",
       "      <th>employee_id</th>\n",
       "      <th>signing_bonus</th>\n",
       "      <th>salary</th>\n",
       "      <th>degree_level</th>\n",
       "      <th>sex</th>\n",
       "      <th>yrs_experience</th>\n",
       "    </tr>\n",
       "  </thead>\n",
       "  <tbody>\n",
       "    <tr>\n",
       "      <th>0</th>\n",
       "      <td>138719</td>\n",
       "      <td>0</td>\n",
       "      <td>273000.0</td>\n",
       "      <td>Master</td>\n",
       "      <td>M</td>\n",
       "      <td>2</td>\n",
       "    </tr>\n",
       "  </tbody>\n",
       "</table>\n",
       "</div>"
      ],
      "text/plain": [
       "   employee_id  signing_bonus    salary degree_level sex  yrs_experience\n",
       "0       138719              0  273000.0       Master   M               2"
      ]
     },
     "execution_count": 14,
     "metadata": {},
     "output_type": "execute_result"
    }
   ],
   "source": [
    "employee.head(1)"
   ]
  },
  {
   "cell_type": "code",
   "execution_count": 15,
   "metadata": {},
   "outputs": [],
   "source": [
    "#Let's join the two datasets\n",
    "data=pandas.merge(left=company, right=employee)"
   ]
  },
  {
   "cell_type": "code",
   "execution_count": 16,
   "metadata": {},
   "outputs": [
    {
     "data": {
      "text/html": [
       "<div>\n",
       "<style scoped>\n",
       "    .dataframe tbody tr th:only-of-type {\n",
       "        vertical-align: middle;\n",
       "    }\n",
       "\n",
       "    .dataframe tbody tr th {\n",
       "        vertical-align: top;\n",
       "    }\n",
       "\n",
       "    .dataframe thead th {\n",
       "        text-align: right;\n",
       "    }\n",
       "</style>\n",
       "<table border=\"1\" class=\"dataframe\">\n",
       "  <thead>\n",
       "    <tr style=\"text-align: right;\">\n",
       "      <th></th>\n",
       "      <th>employee_id</th>\n",
       "      <th>boss_id</th>\n",
       "      <th>dept</th>\n",
       "      <th>level</th>\n",
       "      <th>num_reports</th>\n",
       "      <th>signing_bonus</th>\n",
       "      <th>salary</th>\n",
       "      <th>degree_level</th>\n",
       "      <th>sex</th>\n",
       "      <th>yrs_experience</th>\n",
       "    </tr>\n",
       "  </thead>\n",
       "  <tbody>\n",
       "    <tr>\n",
       "      <th>0</th>\n",
       "      <td>46456</td>\n",
       "      <td>175361.0</td>\n",
       "      <td>sales</td>\n",
       "      <td>IC</td>\n",
       "      <td>0.0</td>\n",
       "      <td>0</td>\n",
       "      <td>213000.0</td>\n",
       "      <td>Bachelor</td>\n",
       "      <td>M</td>\n",
       "      <td>5</td>\n",
       "    </tr>\n",
       "    <tr>\n",
       "      <th>1</th>\n",
       "      <td>104708</td>\n",
       "      <td>29733.0</td>\n",
       "      <td>HR</td>\n",
       "      <td>IC</td>\n",
       "      <td>0.0</td>\n",
       "      <td>0</td>\n",
       "      <td>79000.0</td>\n",
       "      <td>Bachelor</td>\n",
       "      <td>F</td>\n",
       "      <td>3</td>\n",
       "    </tr>\n",
       "    <tr>\n",
       "      <th>2</th>\n",
       "      <td>120853</td>\n",
       "      <td>41991.0</td>\n",
       "      <td>sales</td>\n",
       "      <td>IC</td>\n",
       "      <td>0.0</td>\n",
       "      <td>0</td>\n",
       "      <td>199000.0</td>\n",
       "      <td>High_School</td>\n",
       "      <td>M</td>\n",
       "      <td>5</td>\n",
       "    </tr>\n",
       "    <tr>\n",
       "      <th>3</th>\n",
       "      <td>142630</td>\n",
       "      <td>171266.0</td>\n",
       "      <td>HR</td>\n",
       "      <td>MM</td>\n",
       "      <td>16.0</td>\n",
       "      <td>0</td>\n",
       "      <td>143000.0</td>\n",
       "      <td>PhD</td>\n",
       "      <td>F</td>\n",
       "      <td>13</td>\n",
       "    </tr>\n",
       "    <tr>\n",
       "      <th>4</th>\n",
       "      <td>72711</td>\n",
       "      <td>198240.0</td>\n",
       "      <td>sales</td>\n",
       "      <td>IC</td>\n",
       "      <td>0.0</td>\n",
       "      <td>0</td>\n",
       "      <td>235000.0</td>\n",
       "      <td>Master</td>\n",
       "      <td>M</td>\n",
       "      <td>1</td>\n",
       "    </tr>\n",
       "  </tbody>\n",
       "</table>\n",
       "</div>"
      ],
      "text/plain": [
       "   employee_id   boss_id   dept level  num_reports  signing_bonus    salary degree_level sex  yrs_experience\n",
       "0        46456  175361.0  sales    IC          0.0              0  213000.0     Bachelor   M               5\n",
       "1       104708   29733.0     HR    IC          0.0              0   79000.0     Bachelor   F               3\n",
       "2       120853   41991.0  sales    IC          0.0              0  199000.0  High_School   M               5\n",
       "3       142630  171266.0     HR    MM         16.0              0  143000.0          PhD   F              13\n",
       "4        72711  198240.0  sales    IC          0.0              0  235000.0       Master   M               1"
      ]
     },
     "execution_count": 16,
     "metadata": {},
     "output_type": "execute_result"
    }
   ],
   "source": [
    "data.head()"
   ]
  },
  {
   "cell_type": "code",
   "execution_count": 17,
   "metadata": {},
   "outputs": [],
   "source": [
    "#And get rid of the columns we don't care about, i.e. the IDs and CEO, which is just one row so hardly useful\n",
    "#data=data.query(\"dept!=\\\"CEO\\\"\").drop([\"employee_id\",\"boss_id\"], axis=1)\n",
    "data=data.query('dept!=\"CEO\"').drop([\"employee_id\",\"boss_id\"], axis=1)"
   ]
  },
  {
   "cell_type": "code",
   "execution_count": 18,
   "metadata": {},
   "outputs": [
    {
     "data": {
      "text/html": [
       "<div>\n",
       "<style scoped>\n",
       "    .dataframe tbody tr th:only-of-type {\n",
       "        vertical-align: middle;\n",
       "    }\n",
       "\n",
       "    .dataframe tbody tr th {\n",
       "        vertical-align: top;\n",
       "    }\n",
       "\n",
       "    .dataframe thead th {\n",
       "        text-align: right;\n",
       "    }\n",
       "</style>\n",
       "<table border=\"1\" class=\"dataframe\">\n",
       "  <thead>\n",
       "    <tr style=\"text-align: right;\">\n",
       "      <th></th>\n",
       "      <th>dept</th>\n",
       "      <th>level</th>\n",
       "      <th>num_reports</th>\n",
       "      <th>signing_bonus</th>\n",
       "      <th>salary</th>\n",
       "      <th>degree_level</th>\n",
       "      <th>sex</th>\n",
       "      <th>yrs_experience</th>\n",
       "    </tr>\n",
       "  </thead>\n",
       "  <tbody>\n",
       "    <tr>\n",
       "      <th>0</th>\n",
       "      <td>sales</td>\n",
       "      <td>IC</td>\n",
       "      <td>0.0</td>\n",
       "      <td>0</td>\n",
       "      <td>213000.0</td>\n",
       "      <td>Bachelor</td>\n",
       "      <td>M</td>\n",
       "      <td>5</td>\n",
       "    </tr>\n",
       "    <tr>\n",
       "      <th>1</th>\n",
       "      <td>HR</td>\n",
       "      <td>IC</td>\n",
       "      <td>0.0</td>\n",
       "      <td>0</td>\n",
       "      <td>79000.0</td>\n",
       "      <td>Bachelor</td>\n",
       "      <td>F</td>\n",
       "      <td>3</td>\n",
       "    </tr>\n",
       "    <tr>\n",
       "      <th>2</th>\n",
       "      <td>sales</td>\n",
       "      <td>IC</td>\n",
       "      <td>0.0</td>\n",
       "      <td>0</td>\n",
       "      <td>199000.0</td>\n",
       "      <td>High_School</td>\n",
       "      <td>M</td>\n",
       "      <td>5</td>\n",
       "    </tr>\n",
       "    <tr>\n",
       "      <th>3</th>\n",
       "      <td>HR</td>\n",
       "      <td>MM</td>\n",
       "      <td>16.0</td>\n",
       "      <td>0</td>\n",
       "      <td>143000.0</td>\n",
       "      <td>PhD</td>\n",
       "      <td>F</td>\n",
       "      <td>13</td>\n",
       "    </tr>\n",
       "    <tr>\n",
       "      <th>4</th>\n",
       "      <td>sales</td>\n",
       "      <td>IC</td>\n",
       "      <td>0.0</td>\n",
       "      <td>0</td>\n",
       "      <td>235000.0</td>\n",
       "      <td>Master</td>\n",
       "      <td>M</td>\n",
       "      <td>1</td>\n",
       "    </tr>\n",
       "  </tbody>\n",
       "</table>\n",
       "</div>"
      ],
      "text/plain": [
       "    dept level  num_reports  signing_bonus    salary degree_level sex  yrs_experience\n",
       "0  sales    IC          0.0              0  213000.0     Bachelor   M               5\n",
       "1     HR    IC          0.0              0   79000.0     Bachelor   F               3\n",
       "2  sales    IC          0.0              0  199000.0  High_School   M               5\n",
       "3     HR    MM         16.0              0  143000.0          PhD   F              13\n",
       "4  sales    IC          0.0              0  235000.0       Master   M               1"
      ]
     },
     "execution_count": 18,
     "metadata": {},
     "output_type": "execute_result"
    }
   ],
   "source": [
    "data.head()"
   ]
  },
  {
   "cell_type": "code",
   "execution_count": 19,
   "metadata": {},
   "outputs": [],
   "source": [
    "#Level and degree are actually conceptually ordered. So in this case it can make sense to replace them with numbers that represent the rank\n",
    "codes = {\"High_School\":1, \"Bachelor\":2, \"Master\":3, \"PhD\":4}\n",
    "data['degree_level'] = data['degree_level'].map(codes)\n",
    "  \n",
    "codes = {\"IC\":1, \"MM\":2, \"D\":3,\"VP\":4, \"E\":5}\n",
    "data['level'] = data['level'].map(codes)\n",
    "  \n",
    "#Let's make sex numerical manually\n",
    "data['is_male'] = np.where(data['sex']=='M', 1,  0)\n",
    "del data['sex']"
   ]
  },
  {
   "cell_type": "markdown",
   "metadata": {},
   "source": [
    "Most of the variables in this dataset are likely correlated. For instance, level in the company is likely correlated with number of reports or yrs of experience. We could pre-process and clean the data before building a model. However, a simpler choice is to use a Random Forest, which is known to work well out of the box in those cases."
   ]
  },
  {
   "cell_type": "code",
   "execution_count": 20,
   "metadata": {},
   "outputs": [],
   "source": [
    "from sklearn.ensemble import RandomForestRegressor\n",
    "from sklearn import metrics\n",
    "from sklearn.model_selection import train_test_split\n",
    "np.random.seed(1234)\n",
    "  \n",
    "#dummy variables for the categorical one, i.e. dept. We keep all levels here. It is not going to affect RF badly, after all it does well with correlated variables and it is just one variable with few levels. And this is going to make insights much cleaner\n",
    "data_dummy = pandas.get_dummies(data)\n",
    "  \n",
    "#split into train and test to avoid overfitting\n",
    "train, test = train_test_split(data_dummy, test_size = 0.34)  "
   ]
  },
  {
   "cell_type": "code",
   "execution_count": 21,
   "metadata": {},
   "outputs": [
    {
     "data": {
      "text/plain": [
       "RandomForestRegressor(bootstrap=True, criterion='mse', max_depth=None,\n",
       "                      max_features='auto', max_leaf_nodes=None,\n",
       "                      min_impurity_decrease=0.0, min_impurity_split=None,\n",
       "                      min_samples_leaf=1, min_samples_split=2,\n",
       "                      min_weight_fraction_leaf=0.0, n_estimators=100,\n",
       "                      n_jobs=None, oob_score=True, random_state=None, verbose=0,\n",
       "                      warm_start=False)"
      ]
     },
     "execution_count": 21,
     "metadata": {},
     "output_type": "execute_result"
    }
   ],
   "source": [
    "# will use standard params here. They are likely close to optimal and changing them won't make much of a different in terms of insights, which is our goal here\n",
    "rf = RandomForestRegressor(oob_score=True, n_estimators = 100)\n",
    "rf.fit(train.drop('salary', axis=1), train['salary'])"
   ]
  },
  {
   "cell_type": "code",
   "execution_count": 22,
   "metadata": {},
   "outputs": [
    {
     "name": "stdout",
     "output_type": "stream",
     "text": [
      "MSE on OOB is 5653838615.0 and on test set is 5785077483.0\n"
     ]
    }
   ],
   "source": [
    "print(\"MSE on OOB is\", metrics.mean_squared_error(train['salary'], rf.oob_prediction_).round(), \"and on test set is\", metrics.mean_squared_error(test['salary'], rf.predict(test.drop('salary', axis=1))).round())\n"
   ]
  },
  {
   "cell_type": "code",
   "execution_count": 23,
   "metadata": {},
   "outputs": [
    {
     "name": "stdout",
     "output_type": "stream",
     "text": [
      "% explained variance on OOB is 0.28 and on test set is 0.28\n"
     ]
    }
   ],
   "source": [
    "print(\"% explained variance on OOB is\", metrics.explained_variance_score(train['salary'], rf.oob_prediction_).round(2), \"and on test set is\", metrics.explained_variance_score(test['salary'], rf.predict(test.drop('salary', axis=1))).round(2))"
   ]
  },
  {
   "cell_type": "markdown",
   "metadata": {},
   "source": [
    "It is always hard to understand exactly what % of variance explained means, especially from a product standpoint. On top of that, that number is not only a function of how good our model is, but also depends on how much variance the starting dataset had. So it is hardly informative. The good news though is that for sure the model is not over-fitting.\n",
    "Let’s try to turn this into something a bit more concrete. Let’s use as a metric proportion of salaries for which the prediction is within 25% of the actual salary. I.e. if a given person salary is 100K, we consider the model to predict correctly if the prediction is within 25K. We can look at this as a sort of accuracy when the label is continuous."
   ]
  },
  {
   "cell_type": "markdown",
   "metadata": {},
   "source": [
    "Nothing shockingly good and we would probably need more variables to predict more accurately. However, the variable salary had a lot of variability to begin with."
   ]
  },
  {
   "cell_type": "code",
   "execution_count": 24,
   "metadata": {},
   "outputs": [
    {
     "name": "stdout",
     "output_type": "stream",
     "text": [
      "[ 60000.  77000.  97000. 125400. 154000. 182000. 209000. 237000. 272000.\n",
      " 314000.]\n"
     ]
    }
   ],
   "source": [
    "print(np.percentile(train['salary'], np.arange(0, 100, 10))) "
   ]
  },
  {
   "cell_type": "markdown",
   "metadata": {},
   "source": [
    "Our model is definitely learning something, so insights will be fairly reliable, and for sure directionally true.\n"
   ]
  },
  {
   "cell_type": "code",
   "execution_count": 25,
   "metadata": {},
   "outputs": [
    {
     "data": {
      "text/plain": [
       "<matplotlib.axes._subplots.AxesSubplot at 0x1a24693748>"
      ]
     },
     "execution_count": 25,
     "metadata": {},
     "output_type": "execute_result"
    },
    {
     "data": {
      "image/png": "[encoded data removed]",
      "text/plain": [
       "<Figure size 432x288 with 1 Axes>"
      ]
     },
     "metadata": {
      "needs_background": "light"
     },
     "output_type": "display_data"
    }
   ],
   "source": [
    "#Let's check variable importance\n",
    "feat_importances = pandas.Series(rf.feature_importances_, index=train.drop('salary', axis=1).columns)\n",
    "feat_importances.sort_values().plot(kind='barh')"
   ]
  },
  {
   "cell_type": "markdown",
   "metadata": {},
   "source": [
    "It looks like the model is essentially just using dept and, to a lesser extent, num_reports, degree_level, and yrs_experience. All other variables are fairly irrelevant."
   ]
  },
  {
   "cell_type": "code",
   "execution_count": 26,
   "metadata": {},
   "outputs": [
    {
     "data": {
      "text/plain": [
       "<matplotlib.axes._subplots.AxesSubplot at 0x1a256a1d30>"
      ]
     },
     "execution_count": 26,
     "metadata": {},
     "output_type": "execute_result"
    },
    {
     "data": {
      "image/png": "[encoded data removed]",
      "text/plain": [
       "<Figure size 432x288 with 1 Axes>"
      ]
     },
     "metadata": {
      "needs_background": "light"
     },
     "output_type": "display_data"
    }
   ],
   "source": [
    "#Let's check partial dependence plots of the top 2 variables: dept and yrs_experience, as well as sex\n",
    "from pdpbox import pdp, info_plots\n",
    "  \n",
    "#dept\n",
    "pdp_iso = pdp.pdp_isolate(model=rf, \n",
    "                          dataset=train.drop('salary', axis=1),      \n",
    "                          model_features=list(train.drop('salary', axis=1)), \n",
    "                          feature=['dept_HR', 'dept_engineering', 'dept_marketing', 'dept_sales'], \n",
    "                          num_grid_points=50)\n",
    "pdp_dataset = pandas.Series(pdp_iso.pdp, index=pdp_iso.display_columns)\n",
    "pdp_dataset.sort_values(ascending=False).plot(kind='bar', title='Partial Plot for Dept')\n"
   ]
  },
  {
   "cell_type": "code",
   "execution_count": 27,
   "metadata": {},
   "outputs": [
    {
     "data": {
      "text/plain": [
       "<matplotlib.axes._subplots.AxesSubplot at 0x1a25685c18>"
      ]
     },
     "execution_count": 27,
     "metadata": {},
     "output_type": "execute_result"
    },
    {
     "data": {
      "image/png": "[encoded data removed]",
      "text/plain": [
       "<Figure size 432x288 with 1 Axes>"
      ]
     },
     "metadata": {
      "needs_background": "light"
     },
     "output_type": "display_data"
    }
   ],
   "source": [
    "#yrs_experience\n",
    "pdp_iso = pdp.pdp_isolate(model=rf, \n",
    "                          dataset=train.drop('salary', axis=1),      \n",
    "                          model_features=list(train.drop('salary', axis=1)), \n",
    "                          feature='yrs_experience', \n",
    "                          num_grid_points=50)\n",
    "pdp_dataset = pandas.Series(pdp_iso.pdp, index=pdp_iso.feature_grids)\n",
    "pdp_dataset.plot(title='Partial Plot for Years of Experience')"
   ]
  },
  {
   "cell_type": "code",
   "execution_count": 28,
   "metadata": {},
   "outputs": [
    {
     "data": {
      "text/plain": [
       "<matplotlib.axes._subplots.AxesSubplot at 0x1a256acf60>"
      ]
     },
     "execution_count": 28,
     "metadata": {},
     "output_type": "execute_result"
    },
    {
     "data": {
      "image/png": "[encoded data removed]",
      "text/plain": [
       "<Figure size 432x288 with 1 Axes>"
      ]
     },
     "metadata": {
      "needs_background": "light"
     },
     "output_type": "display_data"
    }
   ],
   "source": [
    "#is_male\n",
    "pdp_iso = pdp.pdp_isolate(model=rf, \n",
    "                          dataset=train.drop('salary', axis=1),      \n",
    "                          model_features=list(train.drop('salary', axis=1)), \n",
    "                          feature='is_male', \n",
    "                          num_grid_points=50)\n",
    "pdp_dataset = pandas.Series(pdp_iso.pdp, index=pdp_iso.feature_grids)\n",
    "pdp_dataset.sort_values(ascending=False).plot(kind='bar',title='Partial Plot for is_male')"
   ]
  },
  {
   "cell_type": "markdown",
   "metadata": {},
   "source": [
    "Department is definitely the main driver of salary. The difference between HR and Engineering is very large.\n",
    "Years of experience matters too, but less (note the smaller y range compared to dept). Most importantly, experience seems to matter more past a certain number. That is, salary will start going up after you become fairly senior. Within the first years, it doesn’t have much of an impact taken independently -> to make a lot of money you need to get to a very senior position.\n",
    "Sex doesn’t appear to matter.\n"
   ]
  },
  {
   "cell_type": "markdown",
   "metadata": {},
   "source": [
    "Q: Describe the main factors impacting employee salaries. Do you think the company has been treating all its employees fairly? What are the next steps you would suggest to the Head of HR?\n"
   ]
  },
  {
   "cell_type": "markdown",
   "metadata": {},
   "source": [
    "Let’s focus on the variable sex here. We already saw from the partial plot that it doesn’t matter to predict salary. However, the average salary between males and females is pretty different."
   ]
  },
  {
   "cell_type": "code",
   "execution_count": 29,
   "metadata": {},
   "outputs": [
    {
     "name": "stdout",
     "output_type": "stream",
     "text": [
      "is_male\n",
      "0    171314.518394\n",
      "1    198876.514445\n",
      "Name: salary, dtype: float64\n"
     ]
    }
   ],
   "source": [
    "#avg salary males vs females\n",
    "print(data.groupby('is_male')['salary'].mean())"
   ]
  },
  {
   "cell_type": "markdown",
   "metadata": {},
   "source": [
    "This is largely a function of the fact that males are more likely to be working in engineering and less in HR. Indeed, if we look at sex and dept together, we now get very similar salaries by sex (as a side note, we are also proving here that RF works extremely well with variables sharing information).\n"
   ]
  },
  {
   "cell_type": "code",
   "execution_count": 30,
   "metadata": {},
   "outputs": [
    {
     "name": "stdout",
     "output_type": "stream",
     "text": [
      "                     count           mean\n",
      "dept        is_male                      \n",
      "HR          0         1058   84399.810964\n",
      "            1          636   84827.044025\n",
      "engineering 0          671  246785.394933\n",
      "            1         2025  242444.444444\n",
      "marketing   0          651  192502.304147\n",
      "            1         1359  195639.440765\n",
      "sales       0         1181  194618.120237\n",
      "            1         2418  194207.196030\n"
     ]
    }
   ],
   "source": [
    "#avg salary males vs females by dept\n",
    "print(data.groupby(['dept','is_male'])['salary'].agg({'mean', 'count'}))"
   ]
  },
  {
   "cell_type": "markdown",
   "metadata": {},
   "source": [
    "# Insights"
   ]
  },
  {
   "cell_type": "markdown",
   "metadata": {},
   "source": [
    "A possible advice could be to try to hire more uniformly across departments. I.e. less females in HR and more in engineering. A next step could be to look into candidate pipeline by dept and see if proportion of hires matches proportion of applicants by sex.\n",
    "\n",
    "The relationship of years of experience vs salary feels a bit worrisome. The company seems to mostly reward experience at the very top, and not much for mid-level professionals. This might lead to poor retention among mid-level people. Having salary grow more linearly vs years of experience would probably help retain those people more."
   ]
  },
  {
   "cell_type": "code",
   "execution_count": null,
   "metadata": {},
   "outputs": [],
   "source": []
  }
 ],
 "metadata": {
  "kernelspec": {
   "display_name": "Python 3",
   "language": "python",
   "name": "python3"
  },
  "language_info": {
   "codemirror_mode": {
    "name": "ipython",
    "version": 3
   },
   "file_extension": ".py",
   "mimetype": "text/x-python",
   "name": "python",
   "nbconvert_exporter": "python",
   "pygments_lexer": "ipython3",
   "version": "3.7.3"
  }
 },
 "nbformat": 4,
 "nbformat_minor": 2
}
